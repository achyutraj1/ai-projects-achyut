{
  "nbformat": 4,
  "nbformat_minor": 0,
  "metadata": {
    "colab": {
      "provenance": [],
      "authorship_tag": "ABX9TyP9W2mnc8/0InxXWxI5LRdy",
      "include_colab_link": true
    },
    "kernelspec": {
      "name": "python3",
      "display_name": "Python 3"
    },
    "language_info": {
      "name": "python"
    }
  },
  "cells": [
    {
      "cell_type": "markdown",
      "metadata": {
        "id": "view-in-github",
        "colab_type": "text"
      },
      "source": [
        "<a href=\"https://colab.research.google.com/github/achyutraj1/ai-projects-achyut/blob/main/resume_tailor.ipynb\" target=\"_parent\"><img src=\"https://colab.research.google.com/assets/colab-badge.svg\" alt=\"Open In Colab\"/></a>"
      ]
    },
    {
      "cell_type": "code",
      "execution_count": 26,
      "metadata": {
        "colab": {
          "base_uri": "https://localhost:8080/"
        },
        "id": "pGts307sfT_i",
        "outputId": "7b582bf2-5cb6-402d-cade-3e44a497e4ed"
      },
      "outputs": [
        {
          "output_type": "stream",
          "name": "stdout",
          "text": [
            "On branch main\n",
            "Your branch is up to date with 'origin/main'.\n",
            "\n",
            "nothing to commit, working tree clean\n"
          ]
        }
      ],
      "source": [
        "!git status"
      ]
    },
    {
      "cell_type": "markdown",
      "metadata": {
        "id": "d58bb995"
      },
      "source": [
        "Please replace the placeholder URL below with the actual URL of your git repository and run the cell to clone it."
      ]
    },
    {
      "cell_type": "code",
      "metadata": {
        "colab": {
          "base_uri": "https://localhost:8080/"
        },
        "id": "648adedd",
        "outputId": "26236aad-42ca-4441-bec3-128f16cb5d26"
      },
      "source": [
        "!git clone https://github.com/achyutraj1/ai-projects-achyut"
      ],
      "execution_count": 27,
      "outputs": [
        {
          "output_type": "stream",
          "name": "stdout",
          "text": [
            "Cloning into 'ai-projects-achyut'...\n",
            "remote: Enumerating objects: 3, done.\u001b[K\n",
            "remote: Counting objects: 100% (3/3), done.\u001b[K\n",
            "remote: Compressing objects: 100% (2/2), done.\u001b[K\n",
            "remote: Total 3 (delta 0), reused 0 (delta 0), pack-reused 0 (from 0)\u001b[K\n",
            "Receiving objects: 100% (3/3), done.\n"
          ]
        }
      ]
    },
    {
      "cell_type": "code",
      "metadata": {
        "colab": {
          "base_uri": "https://localhost:8080/"
        },
        "id": "248cab4c",
        "outputId": "57589b87-ac91-427b-ff05-5cf61b772ab1"
      },
      "source": [
        "%cd ai-projects-achyut\n",
        "!git status"
      ],
      "execution_count": 28,
      "outputs": [
        {
          "output_type": "stream",
          "name": "stdout",
          "text": [
            "/content/ai-projects-achyut/ai-projects-achyut/ai-projects-achyut/ai-projects-achyut/ai-projects-achyut/ai-projects-achyut\n",
            "On branch main\n",
            "Your branch is up to date with 'origin/main'.\n",
            "\n",
            "nothing to commit, working tree clean\n"
          ]
        }
      ]
    },
    {
      "cell_type": "markdown",
      "metadata": {
        "id": "006aa2b9"
      },
      "source": [
        "To use the Gemini API, you'll need an API key. If you don't already have one, create a key in Google AI Studio.\n",
        "In Colab, add the key to the secrets manager under the \"🔑\" in the left panel. Give it the name `GOOGLE_API_KEY`. Then pass the key to the SDK:"
      ]
    },
    {
      "cell_type": "code",
      "metadata": {
        "id": "a736e366"
      },
      "source": [
        "# Import the Python SDK\n",
        "import google.generativeai as genai\n",
        "# Used to securely store your API key\n",
        "from google.colab import userdata\n",
        "\n",
        "GOOGLE_API_KEY=userdata.get('GOOGLE_API_KEY')\n",
        "genai.configure(api_key=GOOGLE_API_KEY)"
      ],
      "execution_count": 29,
      "outputs": []
    },
    {
      "cell_type": "markdown",
      "metadata": {
        "id": "8b57060f"
      },
      "source": [
        "Before you can make any API calls, you need to initialize the Generative Model."
      ]
    },
    {
      "cell_type": "code",
      "metadata": {
        "id": "e3f844e5"
      },
      "source": [
        "# Initialize the Gemini API\n",
        "gemini_model = genai.GenerativeModel('gemini-1.5-flash-latest')"
      ],
      "execution_count": 32,
      "outputs": []
    },
    {
      "cell_type": "markdown",
      "metadata": {
        "id": "dceea0d8"
      },
      "source": [
        "Now, here's the code to tailor your resume using the Gemini API:"
      ]
    },
    {
      "cell_type": "code",
      "metadata": {
        "colab": {
          "base_uri": "https://localhost:8080/",
          "height": 1000
        },
        "id": "217048a0",
        "outputId": "71869952-f057-4a25-fe6e-3ee001548c1b"
      },
      "source": [
        "def tailor_resume_gemini(resume_text, target_role):\n",
        "    prompt_text = (\n",
        "        f\"Rewrite this resume for a {target_role} position. \"\n",
        "        \"Keep achievements and skills relevant to the role.\\n\\n\"\n",
        "        f\"Resume:\\n{resume_text}\\n\\n\"\n",
        "        \"Rewritten Resume:\"\n",
        "    )\n",
        "\n",
        "    response = gemini_model.generate_content(prompt_text)\n",
        "    return response.text.strip()\n",
        "\n",
        "# Example resume text (replace with your own)\n",
        "my_resume = \"\"\"\n",
        "Achyut Raj Pandey\n",
        "Experience:\n",
        "- Security Analyst at Eurofins IT Solutions\n",
        "- Technical Support at DXC Technologies\n",
        "Skills:\n",
        "- Python, SQL, Cybersecurity, ITIL\n",
        "\"\"\"\n",
        "\n",
        "target_job = \"Cybersecurity Analyst\"\n",
        "\n",
        "tailored_version_gemini = tailor_resume_gemini(my_resume, target_job)\n",
        "print(\"Tailored Resume (Gemini):\\n\", tailored_version_gemini)"
      ],
      "execution_count": 33,
      "outputs": [
        {
          "output_type": "stream",
          "name": "stdout",
          "text": [
            "Tailored Resume (Gemini):\n",
            " **Achyut Raj Pandey**\n",
            "(Phone Number) | (Email Address) | (LinkedIn Profile URL - Optional) | (GitHub Profile URL - Optional)\n",
            "\n",
            "\n",
            "**Summary**\n",
            "\n",
            "Highly motivated and results-oriented Cybersecurity Analyst with [Number] years of experience in [mention specific area like threat detection, incident response, vulnerability management etc., if applicable] at Eurofins IT Solutions and DXC Technologies. Proven ability to analyze security threats, implement effective mitigation strategies, and provide technical support.  Proficient in Python and SQL, with a strong understanding of ITIL frameworks and cybersecurity best practices.  Seeking a challenging Cybersecurity Analyst role where I can leverage my skills and experience to contribute to a robust and secure IT environment.\n",
            "\n",
            "\n",
            "**Experience**\n",
            "\n",
            "**Security Analyst | Eurofins IT Solutions | [Start Date] – [End Date]**\n",
            "\n",
            "* [Quantifiable achievement 1:  e.g., Reduced security incidents by X% through proactive threat hunting and vulnerability remediation.]\n",
            "* [Quantifiable achievement 2: e.g., Developed and implemented a new security monitoring system, resulting in Y% improvement in detection time.]\n",
            "* [Responsibility 3: e.g., Conducted security assessments and penetration testing to identify vulnerabilities.]\n",
            "* [Responsibility 4: e.g.,  Responded to and resolved security incidents, minimizing downtime and data loss.]\n",
            "* [Responsibility 5: e.g.,  Collaborated with cross-functional teams to implement security awareness training programs.]\n",
            "\n",
            "\n",
            "**Technical Support Analyst | DXC Technologies | [Start Date] – [End Date]**\n",
            "\n",
            "* [Quantifiable achievement 1: e.g., Resolved X number of technical support tickets per month, maintaining a high customer satisfaction rating.]\n",
            "* [Responsibility 2: e.g., Provided technical assistance to end-users, troubleshooting hardware and software issues.]\n",
            "* [Responsibility 3: e.g.,  Contributed to the improvement of internal IT support processes.]  (If relevant to security, elaborate on how - e.g., improved incident ticketing system leading to faster response times for security issues)\n",
            "\n",
            "\n",
            "**Skills**\n",
            "\n",
            "* **Programming Languages:** Python, SQL\n",
            "* **Security Technologies:** [List specific security technologies, tools, and frameworks used – e.g., SIEM, firewalls, intrusion detection systems, antivirus software, specific cloud security tools]\n",
            "* **Operating Systems:** [List OS experience – e.g., Windows Server, Linux]\n",
            "* **Networking:** [Mention networking protocols and concepts – e.g., TCP/IP, DNS, routing]\n",
            "* **ITIL Framework:**  [Mention specific ITIL processes used – e.g., Incident Management, Problem Management, Change Management]\n",
            "* **Security Concepts:** [List relevant security concepts - e.g., vulnerability management, threat modeling, incident response, risk assessment, security auditing]\n",
            "\n",
            "\n",
            "**Education**\n",
            "\n",
            "[Your Education Details]\n",
            "\n",
            "\n",
            "**Certifications** (Optional)\n",
            "\n",
            "[List any relevant security certifications – e.g., CompTIA Security+, CISSP, CEH]\n",
            "\n",
            "\n",
            "**Projects** (Optional)\n",
            "\n",
            "[List any personal projects demonstrating relevant skills.]\n",
            "\n",
            "\n",
            "**Remember to:**\n",
            "\n",
            "* Replace the bracketed information with your own details.\n",
            "* Tailor the resume to each specific job description, highlighting the skills and experiences most relevant to the particular role.\n",
            "* Use action verbs to describe your accomplishments.\n",
            "* Quantify your achievements whenever possible using numbers and metrics.\n",
            "\n",
            "\n",
            "This revised template provides a much stronger foundation for a Cybersecurity Analyst resume.  Remember to fill in the blanks with your specific accomplishments and skills to make it truly stand out.\n"
          ]
        }
      ]
    },
    {
      "cell_type": "code",
      "metadata": {
        "colab": {
          "base_uri": "https://localhost:8080/"
        },
        "id": "7634cfad",
        "outputId": "b7d1f29c-70b5-4148-9540-af97c041f50e"
      },
      "source": [
        "# Check the status of your repository to see the changes\n",
        "!git status"
      ],
      "execution_count": 34,
      "outputs": [
        {
          "output_type": "stream",
          "name": "stdout",
          "text": [
            "On branch main\n",
            "Your branch is up to date with 'origin/main'.\n",
            "\n",
            "nothing to commit, working tree clean\n"
          ]
        }
      ]
    }
  ]
}